{
 "cells": [
  {
   "cell_type": "code",
   "execution_count": 4,
   "id": "bc5634b2-035b-4f79-8f94-0b1241264c47",
   "metadata": {},
   "outputs": [
    {
     "name": "stdin",
     "output_type": "stream",
     "text": [
      "enter percentage: 55\n"
     ]
    },
    {
     "name": "stdout",
     "output_type": "stream",
     "text": [
      "Grade: D\n"
     ]
    }
   ],
   "source": [
    "x=float(input(\"enter percentage:\"))\n",
    "if x>90:\n",
    "    print(\"Grade:\",\"A\")\n",
    "elif x<=90 and x>80:\n",
    "    print(\"Grade:\",\"B\")\n",
    "elif x<=80 and x>=60:\n",
    "    print(\"Grade:\",\"C\")\n",
    "else:\n",
    "    print(\"Grade:\",\"D\")"
   ]
  },
  {
   "cell_type": "code",
   "execution_count": null,
   "id": "22571fa9-0172-417d-b4d3-8306fdc39cb2",
   "metadata": {},
   "outputs": [],
   "source": [
    "x=input(\"enter city:\")\n",
    "if x==\"Delhi\":\n",
    "     print(\"Monument:\",\"Redfort\")\n",
    "if x==\"Agra\":\n",
    "          print(\"monument:\",\"taj mahal\")\n",
    "if x==\"jaipur\":\n",
    "           print(\"monumemt:\",\"jal mahal\")"
   ]
  },
  {
   "cell_type": "code",
   "execution_count": null,
   "id": "07e0d4f6-ae7e-45ab-8d89-3ffee92f2842",
   "metadata": {},
   "outputs": [],
   "source": []
  },
  {
   "cell_type": "code",
   "execution_count": null,
   "id": "022a8e57-abc5-437e-9746-c6e6121ed78b",
   "metadata": {},
   "outputs": [],
   "source": []
  }
 ],
 "metadata": {
  "kernelspec": {
   "display_name": "Python 3 (ipykernel)",
   "language": "python",
   "name": "python3"
  },
  "language_info": {
   "codemirror_mode": {
    "name": "ipython",
    "version": 3
   },
   "file_extension": ".py",
   "mimetype": "text/x-python",
   "name": "python",
   "nbconvert_exporter": "python",
   "pygments_lexer": "ipython3",
   "version": "3.10.8"
  }
 },
 "nbformat": 4,
 "nbformat_minor": 5
}
